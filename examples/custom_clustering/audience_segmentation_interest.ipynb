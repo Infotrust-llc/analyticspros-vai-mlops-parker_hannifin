{
 "cells": [
  {
   "cell_type": "markdown",
   "metadata": {
    "id": "Dwbk4XZyNGZJ"
   },
   "source": [
    "# Auto Audience Segmentation (Interest based)"
   ]
  },
  {
   "cell_type": "markdown",
   "metadata": {
    "id": "o2nmYBpRNGZM"
   },
   "source": [
    "### Install (and update) additional packages\n",
    "\n",
    "Install the following packages required to execute this notebook."
   ]
  },
  {
   "cell_type": "code",
   "execution_count": null,
   "metadata": {
    "colab": {
     "base_uri": "https://localhost:8080/"
    },
    "id": "zJjUiaLONGZN",
    "outputId": "bb9ac932-a0bd-4da3-a50d-47e1d408dc68"
   },
   "outputs": [],
   "source": [
    "!python --version"
   ]
  },
  {
   "cell_type": "code",
   "execution_count": null,
   "metadata": {
    "colab": {
     "base_uri": "https://localhost:8080/"
    },
    "id": "nYA4S20fNGZO",
    "outputId": "2bbb64c6-7654-4bc9-9c91-30eedd1051fd"
   },
   "outputs": [],
   "source": [
    "import os\n",
    "\n",
    "# The Vertex AI Workbench Notebook product has specific requirements\n",
    "IS_WORKBENCH_NOTEBOOK = os.getenv(\"DL_ANACONDA_HOME\")\n",
    "IS_USER_MANAGED_WORKBENCH_NOTEBOOK = os.path.exists(\n",
    "    \"/opt/deeplearning/metadata/env_version\"\n",
    ")\n",
    "\n",
    "# Vertex AI Notebook requires dependencies to be installed with '--user'\n",
    "USER_FLAG = \"\"\n",
    "if IS_WORKBENCH_NOTEBOOK:\n",
    "    USER_FLAG = \"--user\"\n",
    "\n",
    "! pip3 install --upgrade google-cloud-aiplatform {USER_FLAG} -q google-cloud-bigquery db-dtypes\n",
    "! pip3 install -q --upgrade optuna==3.2.0 {USER_FLAG}\n",
    "! pip3 install -q --upgrade scikit-learn==1.2.* {USER_FLAG}\n",
    "! pip3 install -q --upgrade plotly==5.16.0 matplotlib==3.7.2 seaborn==0.12.2 {USER_FLAG}"
   ]
  },
  {
   "cell_type": "markdown",
   "metadata": {
    "id": "EMaMBjxUNGZP"
   },
   "source": [
    "### Restart the kernel\n",
    "\n",
    "After you install the additional packages, you need to restart the notebook kernel so it can find the packages."
   ]
  },
  {
   "cell_type": "code",
   "execution_count": null,
   "metadata": {
    "id": "gdpNzU7CNGZP"
   },
   "outputs": [],
   "source": [
    "# Automatically restart kernel after installs\n",
    "import os\n",
    "\n",
    "if not os.getenv(\"IS_TESTING\"):\n",
    "    # Automatically restart kernel after installs\n",
    "    import IPython\n",
    "\n",
    "    app = IPython.Application.instance()\n",
    "    app.kernel.do_shutdown(True)"
   ]
  },
  {
   "cell_type": "markdown",
   "metadata": {
    "id": "sa_aIITFNGZP",
    "tags": []
   },
   "source": [
    "## Before you begin"
   ]
  },
  {
   "cell_type": "markdown",
   "metadata": {
    "id": "1JrxuoU3NGZQ"
   },
   "source": [
    "#### Set your project ID\n",
    "\n",
    "**If you don't know your project ID**, you may be able to get your project ID using `gcloud`."
   ]
  },
  {
   "cell_type": "code",
   "execution_count": null,
   "metadata": {
    "colab": {
     "base_uri": "https://localhost:8080/"
    },
    "id": "nw8BG-n2NGZQ",
    "outputId": "23e7b1c2-7cf3-4268-a967-b85dcd9f1539"
   },
   "outputs": [],
   "source": [
    "PROJECT_ID = \"[YOUR-PROJECT-ID]\"\n",
    "\n",
    "# Get your Google Cloud project ID from gcloud\n",
    "import os\n",
    "\n",
    "if not os.getenv(\"IS_TESTING\"):\n",
    "    shell_output = !gcloud config list --format 'value(core.project)' 2>/dev/null\n",
    "    PROJECT_ID = shell_output[0]\n",
    "    print(\"Project ID:\", PROJECT_ID)"
   ]
  },
  {
   "cell_type": "markdown",
   "metadata": {
    "id": "GPaH7g4yNGZR"
   },
   "source": [
    "Otherwise, set your project ID here."
   ]
  },
  {
   "cell_type": "code",
   "execution_count": null,
   "metadata": {
    "cellView": "form",
    "colab": {
     "base_uri": "https://localhost:8080/"
    },
    "id": "5UPZqoAVNGZR",
    "outputId": "5c4a7d45-93b5-4991-a031-9151ff51d88e"
   },
   "outputs": [],
   "source": [
    "if PROJECT_ID == \"\" or PROJECT_ID is None:\n",
    "    PROJECT_ID = \"as-dev-anze\"  # @param {type:\"string\"}\n",
    "\n",
    "print (\"Your set Project ID is:\", PROJECT_ID)"
   ]
  },
  {
   "cell_type": "code",
   "execution_count": null,
   "metadata": {
    "cellView": "form",
    "colab": {
     "base_uri": "https://localhost:8080/"
    },
    "id": "K_yE-tysNGZR",
    "outputId": "3c3505dd-2eb5-4981-b59c-099f2302a61f"
   },
   "outputs": [],
   "source": [
    "REGION = \"[your-region]\"  # @param {type: \"string\"}\n",
    "\n",
    "if REGION == \"[your-region]\":\n",
    "    REGION = \"us-central1\"\n",
    "\n",
    "print ('REGION:', REGION)"
   ]
  },
  {
   "cell_type": "markdown",
   "metadata": {
    "id": "xT_l-19INGZR"
   },
   "source": [
    "### Authenticate your Google Cloud account\n",
    "\n",
    "**If you are using Vertex AI Workbench Notebooks**, your environment is already\n",
    "authenticated. Skip this step."
   ]
  },
  {
   "cell_type": "markdown",
   "metadata": {
    "id": "WYZPFlSkNGZR"
   },
   "source": [
    "**If you are using Colab**, run the cell below and follow the instructions\n",
    "when prompted to authenticate your account via oAuth.\n",
    "\n",
    "**Otherwise**, follow these steps:\n",
    "\n",
    "1. In the Cloud Console, go to the <a href=\"https://console.cloud.google.com/apis/credentials/serviceaccountkey\" target=\"_blank\">**Create service account key** page</a>.\n",
    "\n",
    "2. Click **Create service account**.\n",
    "\n",
    "3. In the **Service account name** field, enter a name, and\n",
    "   click **Create**.\n",
    "\n",
    "4. In the **Grant this service account access to project** section, click the **Role** drop-down list. Type \"Vertex AI\"\n",
    "into the filter box, and select\n",
    "   **Vertex AI Administrator**. Type \"Storage Object Admin\" into the filter box, and select **Storage Object Admin**.\n",
    "\n",
    "5. Click *Create*. A JSON file that contains your key downloads to your\n",
    "local environment.\n",
    "\n",
    "6. Enter the path to your service account key as the\n",
    "`GOOGLE_APPLICATION_CREDENTIALS` variable in the cell below and run the cell."
   ]
  },
  {
   "cell_type": "code",
   "execution_count": null,
   "metadata": {
    "id": "gJxXVYlrtyEq"
   },
   "outputs": [],
   "source": [
    "# If you are running this notebook in Colab, run this cell and follow the\n",
    "# instructions to authenticate your GCP account.\n",
    "\n",
    "import os\n",
    "import sys\n",
    "\n",
    "# If on Vertex AI Workbench, then don't execute this code\n",
    "IS_COLAB = \"google.colab\" in sys.modules\n",
    "if not os.path.exists(\"/opt/deeplearning/metadata/env_version\") and not os.getenv(\n",
    "    \"DL_ANACONDA_HOME\"\n",
    "):\n",
    "    if \"google.colab\" in sys.modules:\n",
    "        from google.colab import auth as google_auth\n",
    "\n",
    "        google_auth.authenticate_user()\n",
    "\n",
    "    # If you are running this notebook locally, replace the string below with the\n",
    "    # path to your service account key and run this cell to authenticate your GCP\n",
    "    # account.\n",
    "    # elif not os.getenv(\"IS_TESTING\"):\n",
    "    #     %env GOOGLE_APPLICATION_CREDENTIALS ''"
   ]
  },
  {
   "cell_type": "code",
   "execution_count": null,
   "metadata": {
    "cellView": "form",
    "id": "PaI8te6ONGZS"
   },
   "outputs": [],
   "source": [
    "SERVICE_ACCOUNT = \"[your-service-account]\"  # @param {type:\"string\"}"
   ]
  },
  {
   "cell_type": "code",
   "execution_count": null,
   "metadata": {
    "colab": {
     "base_uri": "https://localhost:8080/"
    },
    "id": "ENYwvT-UNGZS",
    "outputId": "2e1fd083-1b71-4ff2-dbcb-241ee60f5bf7"
   },
   "outputs": [],
   "source": [
    "if (\n",
    "    SERVICE_ACCOUNT == \"\"\n",
    "    or SERVICE_ACCOUNT is None\n",
    "    or SERVICE_ACCOUNT == \"[your-service-account]\"\n",
    "):\n",
    "    # Get your service account from gcloud\n",
    "    if not IS_COLAB:\n",
    "        shell_output = !gcloud config list account --format \"value(core.account)\"\n",
    "        SERVICE_ACCOUNT = shell_output[0].strip()\n",
    "\n",
    "    else:  # IS_COLAB:\n",
    "        shell_output = ! gcloud projects describe  $PROJECT_ID\n",
    "        project_number = shell_output[-1].split(\":\")[1].strip().replace(\"'\", \"\")\n",
    "        SERVICE_ACCOUNT = f\"{project_number}-compute@developer.gserviceaccount.com\"\n",
    "\n",
    "    print(\"Service Account:\", SERVICE_ACCOUNT)"
   ]
  },
  {
   "cell_type": "markdown",
   "metadata": {
    "id": "iskZFYsANGZS"
   },
   "source": [
    "### Import libraries"
   ]
  },
  {
   "cell_type": "code",
   "execution_count": null,
   "metadata": {
    "cellView": "form",
    "colab": {
     "base_uri": "https://localhost:8080/"
    },
    "id": "hSYrEiHgv8Ql",
    "outputId": "3d882c6a-f8b7-42cd-c29c-502363260079"
   },
   "outputs": [],
   "source": [
    "import numpy as np\n",
    "import pandas as pd\n",
    "pd.options.plotting.backend = \"plotly\"\n",
    "\n",
    "import json\n",
    "import math\n",
    "from warnings import simplefilter\n",
    "simplefilter(action='ignore', category=FutureWarning)\n",
    "\n",
    "import matplotlib.pyplot as plt\n",
    "import matplotlib.cm as cm\n",
    "import seaborn as sns\n",
    "import plotly\n",
    "\n",
    "import sklearn\n",
    "print('The scikit-learn version is {}.'.format(sklearn.__version__))\n",
    "from google.cloud import bigquery\n",
    "import jinja2\n",
    "import re\n",
    "\n",
    "import optuna\n",
    "optuna.logging.set_verbosity(optuna.logging.WARNING)\n",
    "\n",
    "from sklearn.pipeline import Pipeline\n",
    "from sklearn.cluster import KMeans\n",
    "from sklearn.compose import ColumnTransformer\n",
    "from sklearn.preprocessing import FunctionTransformer\n",
    "from sklearn.feature_extraction.text import TfidfTransformer\n",
    "from sklearn.metrics import silhouette_samples, silhouette_score"
   ]
  },
  {
   "cell_type": "markdown",
   "metadata": {
    "id": "CGVxTsifNGZT"
   },
   "source": [
    "### Configuration"
   ]
  },
  {
   "cell_type": "code",
   "execution_count": null,
   "metadata": {
    "cellView": "form",
    "id": "M1Ju4cY-5CLd"
   },
   "outputs": [],
   "source": [
    "#@title Settings\n",
    "SRC_PROJECT_ID = 'analyticspros.com:spotted-cinnamon-834' #@param {type:\"string\"}\n",
    "SRC_DATASET_ID = 'analytics_206551716' #@param {type:\"string\"}\n",
    "DST_DATASET_ID = 'interest_segments' #@param {type:\"string\"}\n",
    "\n",
    "DATE_START = \"2023-01-01\" #@param {type:\"date\"}\n",
    "DATE_END = \"2023-12-31\" #@param {type:\"date\"}\n",
    "LOOKBACK_DAYS = 28 #@param {type:\"integer\"}"
   ]
  },
  {
   "cell_type": "markdown",
   "metadata": {
    "id": "zqea_aGqNGZT"
   },
   "source": [
    "##### Creating BigQuery home dataset"
   ]
  },
  {
   "cell_type": "code",
   "execution_count": null,
   "metadata": {
    "colab": {
     "base_uri": "https://localhost:8080/"
    },
    "id": "wdtI-6IRNGZT",
    "outputId": "5ca1823b-8d1e-45ee-fcf5-57a4181c3df1"
   },
   "outputs": [],
   "source": [
    "from google.cloud import bigquery\n",
    "client = bigquery.Client(project=PROJECT_ID)\n",
    "dataset = bigquery.Dataset(f\"{PROJECT_ID}.{DST_DATASET_ID}\")\n",
    "dataset.location = \"US\"\n",
    "dataset = client.create_dataset(dataset, exists_ok=True, timeout=30)\n",
    "print(\"Created dataset {}.{}\".format(client.project, dataset.dataset_id))"
   ]
  },
  {
   "cell_type": "markdown",
   "metadata": {
    "id": "xYSspOtx4msG"
   },
   "source": [
    "## Creating Auto Generated Dataset"
   ]
  },
  {
   "cell_type": "code",
   "execution_count": null,
   "metadata": {
    "cellView": "form",
    "id": "k2NrZY9jLMoz"
   },
   "outputs": [],
   "source": [
    "#@markdown RE_PAGE PATH is the regex expression that tells the query what part of page path to extract. Example: ^https://your-website.com(/[a-z-0-9]*/?).*\n",
    "\n",
    "RE_PAGE_PATH = '^https://adswerve.com(/[a-z-0-9]*/?).*' #@param {type:\"string\"}\n",
    "\n",
    "#@markdown PERC_KEEP is the percent of cumulative traffic you'd like to keep. (Give me all pages/folders which combine for up to X% of all traffic)\n",
    "PERC_KEEP = 95 #@param {type:\"slider\", min:1, max:99, step:1}\n",
    "\n",
    "#@markdown MIN_ENGAGEMENT is the number of pageviews (which are also features) a vistior needs to be in the visitor pool for the analysis.\n",
    "MIN_ENGAGEMENT = 2 #@param {type:\"slider\", min:0, max:25, step:1}"
   ]
  },
  {
   "cell_type": "code",
   "execution_count": null,
   "metadata": {
    "id": "ZK5cVBhgKqHW"
   },
   "outputs": [],
   "source": [
    "client = bigquery.Client(project=PROJECT_ID)"
   ]
  },
  {
   "cell_type": "code",
   "execution_count": null,
   "metadata": {
    "id": "soxuYQSsKrhq"
   },
   "outputs": [],
   "source": [
    "sql = f\"\"\"\n",
    "SELECT\n",
    "    feature,\n",
    "    ROUND(100 * SUM(users) OVER (ORDER BY users DESC) / SUM(users) OVER (), 2) as cumulative_traffic_percent,\n",
    "\n",
    "FROM (\n",
    "    SELECT\n",
    "        REGEXP_EXTRACT(page_path, @RE_PAGE_PATH) as feature,\n",
    "        COUNT(DISTINCT user_id) as users\n",
    "\n",
    "    FROM (\n",
    "        SELECT\n",
    "            user_pseudo_id as user_id,\n",
    "            (SELECT value.string_value FROM UNNEST(event_params) as ep WHERE ep.key = 'page_location') as page_path\n",
    "        FROM `{SRC_PROJECT_ID}.{SRC_DATASET_ID}.events_*`\n",
    "        WHERE\n",
    "            event_name = 'page_view'\n",
    "            AND SAFE.PARSE_DATE('%Y%m%d', _TABLE_SUFFIX) BETWEEN @DATE_START AND @DATE_END\n",
    "    )\n",
    "    GROUP BY 1\n",
    ")\n",
    "WHERE\n",
    "    feature IS NOT NULL\n",
    "QUALIFY\n",
    "    cumulative_traffic_percent <= @PERC_KEEP\n",
    "ORDER BY 2 ASC\n",
    "\"\"\""
   ]
  },
  {
   "cell_type": "code",
   "execution_count": null,
   "metadata": {
    "id": "lAUS5p-h4ksN"
   },
   "outputs": [],
   "source": [
    "df_features = client.query(query=sql,\n",
    "                  job_config=bigquery.QueryJobConfig(\n",
    "                    query_parameters=[\n",
    "                        bigquery.ScalarQueryParameter(\"DATE_START\", \"DATE\", DATE_START),\n",
    "                        bigquery.ScalarQueryParameter(\"DATE_END\", \"DATE\", DATE_END),\n",
    "                        bigquery.ScalarQueryParameter(\"RE_PAGE_PATH\", \"STRING\", RE_PAGE_PATH),\n",
    "                        bigquery.ScalarQueryParameter(\"PERC_KEEP\", \"FLOAT64\", PERC_KEEP)\n",
    "                    ]\n",
    "                )\n",
    ").to_dataframe()"
   ]
  },
  {
   "cell_type": "code",
   "execution_count": null,
   "metadata": {
    "colab": {
     "base_uri": "https://localhost:8080/"
    },
    "id": "8lj9uiQGvjQt",
    "outputId": "96f993fe-1854-42a2-e39b-2a2fe674263d"
   },
   "outputs": [],
   "source": [
    "print (f'Number of page path categories kept: {len(df_features)}')"
   ]
  },
  {
   "cell_type": "code",
   "execution_count": null,
   "metadata": {
    "id": "gxg2bKdTRFmZ"
   },
   "outputs": [],
   "source": [
    "def column_name_clean(f):\n",
    "    if f == '/' or f == '' or f is None: return 'homepage'\n",
    "    if f.startswith('/'): f = f[1:]\n",
    "    if f.endswith('/'): f = f[:-1]\n",
    "    return re.sub('[^0-9a-zA-Z]+', '_', f)"
   ]
  },
  {
   "cell_type": "code",
   "execution_count": null,
   "metadata": {
    "colab": {
     "base_uri": "https://localhost:8080/",
     "height": 645
    },
    "id": "iWFoLXnoNGZU",
    "outputId": "5d3160b7-3280-4752-82fa-d7d9f36a52f2"
   },
   "outputs": [],
   "source": [
    "df_features['feature_name'] = df_features.feature.apply(column_name_clean)\n",
    "df_features"
   ]
  },
  {
   "cell_type": "code",
   "execution_count": null,
   "metadata": {
    "id": "4xyv99rmL7ks"
   },
   "outputs": [],
   "source": [
    "procedure_template = jinja2.Template(\"\"\"\n",
    "CREATE OR REPLACE PROCEDURE {{ DST_DATASET_ID }}.create_dataset(\n",
    "  table_name STRING,\n",
    "  date_start DATE,\n",
    "  date_end DATE,\n",
    "  mode STRING\n",
    ")\n",
    "BEGIN\n",
    "\n",
    "    DECLARE RE_PAGE_PATH STRING DEFAULT \"{{ re_page_path|e }}\";\n",
    "    DECLARE LOOKBACK_DAYS INT64 DEFAULT {{ lookback_days }};\n",
    "\n",
    "    CREATE OR REPLACE TEMP TABLE dataset\n",
    "    AS\n",
    "    WITH\n",
    "        visitor_pool AS (\n",
    "            SELECT\n",
    "              user_pseudo_id,\n",
    "              PARSE_DATE('%Y%m%d', MAX(event_date)) as date,\n",
    "              PARSE_DATE('%Y%m%d', MAX(event_date)) - LOOKBACK_DAYS as date_lookback,\n",
    "              TIMESTAMP_MICROS(MAX(event_timestamp)) as feature_timestamp,\n",
    "\n",
    "            FROM `{{ PROJECT_ID }}.{{ DATASET_ID }}.events_*`\n",
    "            WHERE SAFE.PARSE_DATE('%Y%m%d', _TABLE_SUFFIX) BETWEEN date_start AND date_end\n",
    "            GROUP BY 1\n",
    "    )\n",
    "\n",
    "    SELECT\n",
    "        user_id,\n",
    "        date,\n",
    "        feature_timestamp,\n",
    "        {% for f in features %}COUNTIF( REGEXP_EXTRACT(page_path, RE_PAGE_PATH) = '{{ f }}' ) as {{ column_name_clean(f) }},\n",
    "        {% endfor %}\n",
    "    FROM (\n",
    "        SELECT\n",
    "            ga.user_pseudo_id as user_id,\n",
    "            vp.date,\n",
    "            vp.feature_timestamp,\n",
    "            (SELECT value.string_value FROM UNNEST(event_params) as ep WHERE ep.key = 'page_location') as page_path\n",
    "        FROM `{{ PROJECT_ID }}.{{ DATASET_ID }}.events_*` as ga\n",
    "        INNER JOIN visitor_pool as vp\n",
    "            ON vp.user_pseudo_id = ga.user_pseudo_id\n",
    "                AND PARSE_DATE('%Y%m%d', GA.event_date) >= vp.date_lookback\n",
    "        WHERE\n",
    "            event_name = 'page_view'\n",
    "            AND SAFE.PARSE_DATE('%Y%m%d', _TABLE_SUFFIX) BETWEEN date_start - LOOKBACK_DAYS AND date_end\n",
    "    )\n",
    "    GROUP BY 1, 2, 3;\n",
    "\n",
    "    EXECUTE IMMEDIATE FORMAT('''\n",
    "        CREATE OR REPLACE TABLE %s\n",
    "        OPTIONS(\n",
    "          expiration_timestamp=TIMESTAMP_ADD(CURRENT_TIMESTAMP(), INTERVAL 1 DAY)\n",
    "        )\n",
    "        AS\n",
    "        SELECT * FROM dataset\n",
    "        WHERE\n",
    "          (\n",
    "            {% for f in features %}{{ column_name_clean(f) }} {% if not loop.last %}+{% endif %}\n",
    "            {% endfor %}\n",
    "          ) >= {{ min_engagement }};\n",
    "    ''', table_name);\n",
    "\n",
    "END\n",
    "\"\"\")\n",
    "procedure_template.globals.update({'column_name_clean': column_name_clean})"
   ]
  },
  {
   "cell_type": "code",
   "execution_count": null,
   "metadata": {
    "colab": {
     "base_uri": "https://localhost:8080/"
    },
    "id": "vk94UWo9PExu",
    "outputId": "8706dcae-2541-407c-8d92-76752911f313"
   },
   "outputs": [],
   "source": [
    "def create_procedure(features):\n",
    "    sql = procedure_template.render(\n",
    "            PROJECT_ID=SRC_PROJECT_ID,\n",
    "            DATASET_ID=SRC_DATASET_ID,\n",
    "            DST_DATASET_ID=DST_DATASET_ID,\n",
    "            re_page_path=RE_PAGE_PATH,\n",
    "            lookback_days=LOOKBACK_DAYS,\n",
    "            min_engagement=MIN_ENGAGEMENT,\n",
    "            features=features\n",
    "    )\n",
    "    client.query(query=sql).result()\n",
    "\n",
    "create_procedure(df_features.feature.tolist())\n",
    "\n",
    "client.query(\n",
    "    query=f\"CALL `{PROJECT_ID}.{DST_DATASET_ID}.create_dataset`(@table_name, @date_start, @date_end, @mode);\",\n",
    "    job_config=bigquery.QueryJobConfig(\n",
    "        query_parameters=[\n",
    "            bigquery.ScalarQueryParameter(\"table_name\", \"STRING\", f\"{DST_DATASET_ID }.dataset\"),\n",
    "            bigquery.ScalarQueryParameter(\"date_start\", \"DATE\", DATE_START),\n",
    "            bigquery.ScalarQueryParameter(\"date_end\", \"DATE\", DATE_END),\n",
    "            bigquery.ScalarQueryParameter(\"mode\", \"STRING\", f\"NA\"),\n",
    "        ]\n",
    "    )\n",
    ").result()"
   ]
  },
  {
   "cell_type": "code",
   "execution_count": null,
   "metadata": {
    "id": "jpOKPdAsOp85"
   },
   "outputs": [],
   "source": [
    "df = client.query(query=f\"SELECT * FROM `{PROJECT_ID}.{DST_DATASET_ID}.dataset`\").to_dataframe()"
   ]
  },
  {
   "cell_type": "code",
   "execution_count": null,
   "metadata": {
    "colab": {
     "base_uri": "https://localhost:8080/",
     "height": 617
    },
    "id": "l2e3-LivTJ0O",
    "outputId": "3875789a-7dd3-414b-a5e8-fbd59aab9eea"
   },
   "outputs": [],
   "source": [
    "df"
   ]
  },
  {
   "cell_type": "markdown",
   "metadata": {
    "id": "aApnI4FUGEZV"
   },
   "source": [
    "## Cluster Model [for Interests on Site]\n",
    "Find the best set of clusters with the most features as you can, while keeping the clusters sound (Silhuette Score) and even in size (Gini Coeff).\n"
   ]
  },
  {
   "cell_type": "code",
   "execution_count": null,
   "metadata": {
    "cellView": "form",
    "id": "HX5vfxdl2hSb"
   },
   "outputs": [],
   "source": [
    "#@markdown ####Optimization weights\n",
    "#@markdown Put different discounts on the importance of optimization targets. 0 means the target will remain fully important (not discounted), 1 means it will be fully dicounted (ignored)\n",
    "\n",
    "#@markdown Silhouette score provides a metric about how compact and sound the clusters are.\n",
    "#@markdown Typically dicsounting this metric is not advised as it would allow for the optimization process to favor worse set of clusters.\n",
    "W_silhouette_score = 0 #@param {type:\"slider\", min:0, max:1, step:0.01}\n",
    "\n",
    "#@markdown Gini coeff. provides a metric about the inequality of cluster sizes.\n",
    "#@markdown Pushing the weight closer to 1 will likely produce more clusters with more inbalance, keeping it close to 0 will likely produce less clusters of more equal sizes.\n",
    "W_gini = 0.7 #@param {type:\"slider\", min:0, max:1, step:0.01}\n",
    "\n",
    "#@markdown 'Features used ratio' measures what % of features have been kept. Pushing the weight closer to 1 will likely produce clusters with less features, keeping it closer to 0 will likely produce clusters with more features.\n",
    "#@markdown Typically we would want to use as many features as we can while just dropping those clearly irrelevant.\n",
    "W_feat_used_ratio = 0 #@param {type:\"slider\", min:0, max:1, step:0.01}\n",
    "\n",
    "#@markdown 'Max clusters ratio' helps calculate what is the max number of clusters for each trial run. \n",
    "#@markdown 1 will make max clusters equal to the number of features selected at each trial run, while 0.5 will ensure that the max number of clusters will be half of the number of features selected on each trial run. \n",
    "W_max_clusters_ratio = 0.8 #@param {type:\"slider\", min:0.2, max:1, step:0.01}"
   ]
  },
  {
   "cell_type": "code",
   "execution_count": null,
   "metadata": {
    "id": "B6LlKVeTTR3-"
   },
   "outputs": [],
   "source": [
    "X = df.copy()\n",
    "features = list(X.columns[3:])  # need to skip first three columns -> user_id, date, feature_timestamp\n",
    "min_num_clusters = 3"
   ]
  },
  {
   "cell_type": "code",
   "execution_count": null,
   "metadata": {
    "id": "Y6IPaEBxW_xq"
   },
   "outputs": [],
   "source": [
    "def create_model(params, n_features):\n",
    "    model = Pipeline([\n",
    "        ('transform', ColumnTransformer(\n",
    "            transformers=[\n",
    "                ('tfidf',\n",
    "                 TfidfTransformer(norm='l2'),\n",
    "                 list(range(3, n_features + 3))  # need to skip first three columns -> user_id, date, feature_timestamp\n",
    "                )\n",
    "            ]\n",
    "        )),\n",
    "        ('model', KMeans(\n",
    "            init='k-means++', n_init='auto',\n",
    "            random_state=42,\n",
    "            **params)\n",
    "        )\n",
    "    ])\n",
    "\n",
    "    return model\n",
    "\n",
    "def gini(x):\n",
    "    total = 0\n",
    "    for i, xi in enumerate(x[:-1], 1):\n",
    "        total += np.sum(np.abs(xi - x[i:]))\n",
    "    return total / (len(x)**2 * np.mean(x))\n",
    "\n",
    "def objective(trial):\n",
    "    f_list = []\n",
    "    for f in features:\n",
    "        include = trial.suggest_categorical(f\"f_{f}\", [False, True])\n",
    "        if include:\n",
    "            f_list.append(f)\n",
    "\n",
    "    if len(f_list) == 0:\n",
    "        raise optuna.TrialPruned()\n",
    "\n",
    "    max_num_clusters = max(min_num_clusters, round(len(f_list) * W_max_clusters_ratio))\n",
    "\n",
    "    params_model = {\n",
    "      \"n_clusters\": trial.suggest_int(\"n_clusters\", min_num_clusters, max_num_clusters),\n",
    "      \"max_iter\": 500, # trial.suggest_int(\"max_iter\", 10, 1000, step=10),\n",
    "      \"tol\": 1e-4 # trial.suggest_float(\"tol\", 1e-6, 1e-2, step=1e-6),\n",
    "    }\n",
    "\n",
    "    X_f = X[list(X.columns[:3]) + f_list]\n",
    "    model = create_model(params_model, len(f_list))\n",
    "    model.fit(X_f)\n",
    "    labels = model.predict(X_f)\n",
    "\n",
    "    sil_score = silhouette_score(\n",
    "        model.named_steps['transform'].transform(X),\n",
    "        labels, metric='euclidean',\n",
    "        sample_size=int(len(df) * 0.1) if int(len(df) * 0.1) < 10_000 else 10_000,\n",
    "        random_state=42\n",
    "    )\n",
    "\n",
    "    gini_inv = 1 - gini(np.bincount(labels))  # 1 is perfectly equal sizes, 0 is perfectly inequal sizes\n",
    "\n",
    "    f_used_ratio = (len(f_list) / len(features))\n",
    "\n",
    "    trial.set_user_attr(\"params_model\", params_model)\n",
    "    trial.set_user_attr(\"features\", f_list)\n",
    "    trial.set_user_attr(\"features_all\", list(X_f.columns))\n",
    "    return (\n",
    "        sil_score * (1 - W_silhouette_score) + W_silhouette_score,\n",
    "        gini_inv * (1 - W_gini) + W_gini,\n",
    "        f_used_ratio * (1 - W_feat_used_ratio) + W_feat_used_ratio\n",
    "    )"
   ]
  },
  {
   "cell_type": "code",
   "execution_count": null,
   "metadata": {
    "colab": {
     "base_uri": "https://localhost:8080/",
     "height": 49,
     "referenced_widgets": [
      "ba193c76a0404249a593ca20f107d8c4",
      "ba6ffadbca114f0e9c3f99b37f6f3ccc",
      "b7d34d40e48a4d68b380313754812f57",
      "e28136d60bec45c98f78620def4e6173",
      "5e8bb377ef304653bf48472a2384061f",
      "9eb66301dec74946bb93827dc861b0d0",
      "e31eaf47e48b4ed5a5ec44c91460b916",
      "3da7a3a5d9c14d76ae0abeebeacec6ed",
      "80d73478fc71490daac27c2888749cd9",
      "6584aa6e10bf4f2f8e40eac15ee16ba3",
      "d9fb68c8b9324336b97430e18769850c"
     ]
    },
    "id": "D03pzU4BOLFl",
    "outputId": "90ce2c7a-78a1-42c9-de26-df258c2998e0",
    "scrolled": true,
    "tags": []
   },
   "outputs": [],
   "source": [
    "study = optuna.create_study(\n",
    "    directions=[\"maximize\", \"maximize\", \"maximize\"],\n",
    "    sampler=optuna.samplers.NSGAIISampler(population_size=len(features) * 5, seed=42)\n",
    ")\n",
    "study.optimize(objective,\n",
    "               n_trials=max(len(features)**2 * 5, 500),  # ADJUST THIS ACCORDINGLY, BUT PROB. SHOULDN'T BE BELOW 500\n",
    "               show_progress_bar=True,\n",
    "               n_jobs=-1\n",
    ")"
   ]
  },
  {
   "cell_type": "markdown",
   "metadata": {
    "id": "wkCQ5FnzNGZW"
   },
   "source": [
    "### Optimization Results"
   ]
  },
  {
   "cell_type": "code",
   "execution_count": null,
   "metadata": {
    "cellView": "form",
    "colab": {
     "base_uri": "https://localhost:8080/",
     "height": 617
    },
    "id": "9WMk5r1CQ7dG",
    "outputId": "dddb875d-280b-4732-d6b4-85b7713503ff"
   },
   "outputs": [],
   "source": [
    "fig = optuna.visualization.plot_pareto_front(study, target_names=['Silhuette', 'Inv.Gini', \"Features Used Ratio\"], include_dominated_trials=False)\n",
    "fig.layout.height = 600\n",
    "fig.show()"
   ]
  },
  {
   "cell_type": "markdown",
   "metadata": {
    "id": "fiadb-C5NGZX"
   },
   "source": [
    "#### Find a trial that has the best ratio of all three optimization targets.\n",
    "Which trial is closest to (1, 1, 1) point in space."
   ]
  },
  {
   "cell_type": "code",
   "execution_count": null,
   "metadata": {
    "id": "yNWVLehu2hSd"
   },
   "outputs": [],
   "source": [
    "best_trials = sorted([t for t in study.best_trials], key=lambda x: math.dist(x.values, [1, 1, 1]))"
   ]
  },
  {
   "cell_type": "code",
   "execution_count": null,
   "metadata": {
    "cellView": "form",
    "colab": {
     "base_uri": "https://localhost:8080/"
    },
    "id": "dFOFnwnu2hSd",
    "outputId": "6a230a2b-effc-4863-fc51-e41b91847e46"
   },
   "outputs": [],
   "source": [
    "#@markdown Pick model by rank:\n",
    "pick_best_n_ranked_model = 1 #@param {type:\"integer\", min:1}\n",
    "\n",
    "#@markdown Pick model by number of clusters with best rank: (rank pick will be ignored if pick_num_clusters is >= 3)\n",
    "pick_num_clusters = 0 #@param {type:\"integer\", min:3}\n",
    "\n",
    "trial_chosen = best_trials[pick_best_n_ranked_model - 1]\n",
    "if pick_num_clusters and pick_num_clusters >= 3:\n",
    "    pick_best_n_ranked_model = 0\n",
    "    for t in best_trials:\n",
    "        pick_best_n_ranked_model += 1\n",
    "        if t.user_attrs['params_model']['n_clusters'] == pick_num_clusters:\n",
    "            trial_chosen = t\n",
    "            break\n",
    "\n",
    "print (\"TRIAL CHOSEN:\")\n",
    "print (f\" Rank: {pick_best_n_ranked_model} out of {len(best_trials)}\")\n",
    "print (f' Number: {trial_chosen.number}')\n",
    "print (f\" Num. clusters: {trial_chosen.user_attrs['params_model']['n_clusters']}\")\n",
    "print (f\" Sil. Score: {round(trial_chosen.values[0], 4)} / Inv. Gini Coeff: {round(trial_chosen.values[1], 4)} / Features Used Ratio: {round(trial_chosen.values[2], 4)}\")\n",
    "print (f\" Num. Features Total: {len(features)} / Num. Features Used: {len(trial_chosen.user_attrs['features'])}\")\n",
    "print (f\" Features Used: {trial_chosen.user_attrs['features']}\")\n",
    "print (f\" Features Dropped: {list(set(features) - set(trial_chosen.user_attrs['features']))}\")\n",
    "print (f\" Params:\")\n",
    "print (json.dumps(trial_chosen.params, indent=2))"
   ]
  },
  {
   "cell_type": "markdown",
   "metadata": {
    "id": "uiEz8Vjt2hSd"
   },
   "source": [
    "##### Build model"
   ]
  },
  {
   "cell_type": "code",
   "execution_count": null,
   "metadata": {
    "id": "ZZt-Ig242hSd"
   },
   "outputs": [],
   "source": [
    "features_sel = trial_chosen.user_attrs['features']\n",
    "features_sel_all = trial_chosen.user_attrs['features_all']\n",
    "model = create_model(\n",
    "    trial_chosen.user_attrs['params_model'],\n",
    "    len(features_sel)\n",
    ")\n",
    "model.fit(X[features_sel_all])\n",
    "labels = model.predict(X[features_sel_all])"
   ]
  },
  {
   "cell_type": "markdown",
   "metadata": {
    "id": "7nQg_PojNGZX"
   },
   "source": [
    "## Visualization"
   ]
  },
  {
   "cell_type": "markdown",
   "metadata": {
    "id": "yFssTOO_NGZX"
   },
   "source": [
    "### Silhouette Analysis"
   ]
  },
  {
   "cell_type": "code",
   "execution_count": null,
   "metadata": {
    "cellView": "form",
    "colab": {
     "base_uri": "https://localhost:8080/",
     "height": 724
    },
    "id": "QAhZp2DbcOjw",
    "outputId": "5e1c6b23-84b9-4bb2-c939-09873f5eaca9"
   },
   "outputs": [],
   "source": [
    "def silhouette_visualization(X, model):\n",
    "    np.random.seed(42)\n",
    "    # Create a subplot with 1 row and 2 columns\n",
    "    fig, ax1 = plt.subplots(1, 1)\n",
    "    fig.set_size_inches(18, 7)\n",
    "\n",
    "    sample = np.random.choice(len(X),\n",
    "                              size=int(len(X) * 0.1) if int(len(X) * 0.1) < 10_000 else 10_000)\n",
    "    model_cluster_centers = model.named_steps['model'].cluster_centers_\n",
    "    X_tr = model.named_steps['transform'].transform(X)\n",
    "\n",
    "    ax1.set_xlim([-0.1, 1])\n",
    "    ax1.set_ylim([0, len(sample) + (len(model_cluster_centers) + 1) * 10])\n",
    "\n",
    "    cluster_labels = model.predict(X)\n",
    "    print(\"Clustering done for n_clusters={}\".format(len(model_cluster_centers)))\n",
    "\n",
    "    cluster_labels = cluster_labels[sample]\n",
    "\n",
    "    # The silhouette_score gives the average value for all the samples.\n",
    "    # This gives a perspective into the density and separation of the formed\n",
    "    # clusters\n",
    "    silhouette_avg = silhouette_score(X_tr[ sample, :], cluster_labels)\n",
    "    print(\"For n_clusters =\", len(model_cluster_centers),\n",
    "          \"The average silhouette_score is :\", silhouette_avg)\n",
    "\n",
    "    # Compute the silhouette scores for each sample\n",
    "\n",
    "    sample_silhouette_values = silhouette_samples(X_tr[ sample, :], cluster_labels)\n",
    "\n",
    "    y_lower = 10\n",
    "    for i in range(len(model_cluster_centers)):\n",
    "        # Aggregate the silhouette scores for samples belonging to\n",
    "        # cluster i, and sort them\n",
    "        ith_cluster_silhouette_values = \\\n",
    "            sample_silhouette_values[cluster_labels == i]\n",
    "\n",
    "        ith_cluster_silhouette_values.sort()\n",
    "\n",
    "        size_cluster_i = ith_cluster_silhouette_values.shape[0]\n",
    "        y_upper = y_lower + size_cluster_i\n",
    "\n",
    "        color = cm.nipy_spectral(float(i) / len(model_cluster_centers))\n",
    "        ax1.fill_betweenx(np.arange(y_lower, y_upper),\n",
    "                          0, ith_cluster_silhouette_values,\n",
    "                          facecolor=color, edgecolor=color, alpha=0.7)\n",
    "\n",
    "        # Label the silhouette plots with their cluster numbers at the middle\n",
    "        ax1.text(-0.05, y_lower + 0.5 * size_cluster_i, str(i))\n",
    "\n",
    "        # Compute the new y_lower for next plot\n",
    "        y_lower = y_upper + 10  # 10 for the 0 samples\n",
    "\n",
    "    ax1.set_title(\"The silhouette plot.\")\n",
    "    ax1.set_xlabel(\"The silhouette coefficient values\")\n",
    "    ax1.set_ylabel(\"Cluster label\")\n",
    "\n",
    "    # The vertical line for average silhouette score of all the values\n",
    "    ax1.axvline(x=silhouette_avg, color=\"red\", linestyle=\"--\")\n",
    "\n",
    "    ax1.set_yticks([])  # Clear the yaxis labels / ticks\n",
    "    ax1.set_xticks([-0.1, 0, 0.2, 0.4, 0.6, 0.8, 1])\n",
    "\n",
    "    plt.suptitle(f\"Silhouette analysis for KMeans clustering on sample data with n_clusters = {len(model_cluster_centers)}\",\n",
    "                 fontsize=14, fontweight='bold')\n",
    "\n",
    "    plt.show()\n",
    "\n",
    "silhouette_visualization(X[features_sel_all], model)"
   ]
  },
  {
   "cell_type": "markdown",
   "metadata": {
    "id": "25JLHRIsNGZX"
   },
   "source": [
    "### Heatmap"
   ]
  },
  {
   "cell_type": "code",
   "execution_count": null,
   "metadata": {
    "cellView": "form",
    "colab": {
     "base_uri": "https://localhost:8080/",
     "height": 405
    },
    "id": "5Sv7ZejNosU6",
    "outputId": "cc0fb7f9-e21f-4bba-f7c5-40b9862f3d22"
   },
   "outputs": [],
   "source": [
    "model_cluster_centers = pd.DataFrame(model.named_steps['model'].cluster_centers_, columns=features_sel)\n",
    "mcc = model_cluster_centers.T / model_cluster_centers.T.sum(axis=1).values.reshape(1, len(features_sel)).T\n",
    "\n",
    "sns.set(font_scale=0.75)\n",
    "fig, ax = plt.subplots(figsize=(\n",
    "        max(int(model_cluster_centers.shape[1]/2), 4),\n",
    "        max(model_cluster_centers.shape[0]/2, 4)\n",
    "    )\n",
    ")\n",
    "_ = sns.heatmap(mcc, ax=ax, cbar=False, annot=np.round(model_cluster_centers, 2).T)\n",
    "ax.set_title('Heatmap')\n",
    "ax.set(xlabel='Cluster')\n",
    "plt.yticks(rotation=0)\n",
    "plt.show()"
   ]
  },
  {
   "cell_type": "markdown",
   "metadata": {
    "id": "t29Yd1N1NGZY"
   },
   "source": [
    "### Cluster Sizes"
   ]
  },
  {
   "cell_type": "code",
   "execution_count": null,
   "metadata": {
    "cellView": "form",
    "colab": {
     "base_uri": "https://localhost:8080/",
     "height": 542
    },
    "id": "XmlAwnOA89Nx",
    "outputId": "1c1432c4-0941-4c92-bc60-0442980d8cbf"
   },
   "outputs": [],
   "source": [
    "c = np.array(np.bincount(labels), dtype=np.float64)\n",
    "c /= c.sum() /100\n",
    "df_c = pd.DataFrame(c, index=[f\"Cluster {n}\" for n in range(c.size)], columns=['Size %'])\n",
    "df_c.plot.bar()"
   ]
  },
  {
   "cell_type": "markdown",
   "metadata": {
    "id": "2wZPqFHfNGZY"
   },
   "source": [
    "## [Optional] Deployment to Vertex AI Model Registry"
   ]
  },
  {
   "cell_type": "markdown",
   "metadata": {
    "id": "hUCQUVdD2hSf"
   },
   "source": [
    "##### Update stored procedure with only the selected features"
   ]
  },
  {
   "cell_type": "code",
   "execution_count": null,
   "metadata": {
    "id": "MuOqx2VW2hSf"
   },
   "outputs": [],
   "source": [
    "create_procedure(\n",
    "    df_features[df_features.feature_name.isin(features_sel)].feature.tolist()\n",
    ")"
   ]
  },
  {
   "cell_type": "markdown",
   "metadata": {
    "id": "dtx7SaJ32hSf"
   },
   "source": [
    "##### Deploy"
   ]
  },
  {
   "cell_type": "code",
   "execution_count": null,
   "metadata": {
    "id": "_f5sc789EXsA"
   },
   "outputs": [],
   "source": [
    "import pickle\n",
    "with open('model.pkl', 'wb') as f:\n",
    "    pickle.dump(model, f)"
   ]
  },
  {
   "cell_type": "code",
   "execution_count": null,
   "metadata": {
    "id": "L2jh3KCeNGZY"
   },
   "outputs": [],
   "source": [
    "MODEL_NAME = DST_DATASET_ID\n",
    "GCS_BUCKET=f'{PROJECT_ID}-models'\n",
    "ARTIFACT_GCS_URI = f\"gs://{GCS_BUCKET}/{MODEL_NAME}\"\n",
    "PREBUILT_CONTAINER_URI = \"us-docker.pkg.dev/vertex-ai/prediction/sklearn-cpu.1-2:latest\""
   ]
  },
  {
   "cell_type": "code",
   "execution_count": null,
   "metadata": {
    "id": "0n3r6DY2NGZY"
   },
   "outputs": [],
   "source": [
    "!gsutil mb -p $PROJECT_ID -l $REGION gs://$GCS_BUCKET"
   ]
  },
  {
   "cell_type": "code",
   "execution_count": null,
   "metadata": {
    "id": "xQ5gUsnXNGZZ"
   },
   "outputs": [],
   "source": [
    "!gsutil cp model.pkl $ARTIFACT_GCS_URI/model.pkl\n",
    "!rm model.pkl"
   ]
  },
  {
   "cell_type": "code",
   "execution_count": null,
   "metadata": {
    "id": "uf1ZnWq6NGZZ"
   },
   "outputs": [],
   "source": [
    "!gcloud ai models upload --region=$REGION --display-name=$MODEL_NAME --container-image-uri=$PREBUILT_CONTAINER_URI --artifact-uri=$ARTIFACT_GCS_URI"
   ]
  },
  {
   "cell_type": "code",
   "execution_count": null,
   "metadata": {
    "id": "xkI0c30ZNGZZ"
   },
   "outputs": [],
   "source": [
    "!gcloud ai models list --region=$REGION --filter=display_name=$MODEL_NAME"
   ]
  },
  {
   "cell_type": "markdown",
   "metadata": {
    "id": "mTd-RnGWNGZZ"
   },
   "source": [
    "## [Optional] Delete GCP Resources"
   ]
  },
  {
   "cell_type": "code",
   "execution_count": null,
   "metadata": {
    "id": "ns1OM3cfNGZZ"
   },
   "outputs": [],
   "source": [
    "import google.cloud.aiplatform as aiplatform\n",
    "aiplatform.init(project=PROJECT_ID, location=REGION)"
   ]
  },
  {
   "cell_type": "code",
   "execution_count": null,
   "metadata": {
    "id": "49IhUvQ3NGZZ"
   },
   "outputs": [],
   "source": [
    "for m in aiplatform.Model.list(filter=f\"display_name={MODEL_NAME}\", order_by=f\"create_time desc\"):\n",
    "    m.delete()"
   ]
  }
 ],
 "metadata": {
  "colab": {
   "provenance": []
  },
  "kernelspec": {
   "display_name": "Python 3 (ipykernel)",
   "language": "python",
   "name": "python3"
  },
  "language_info": {
   "codemirror_mode": {
    "name": "ipython",
    "version": 3
   },
   "file_extension": ".py",
   "mimetype": "text/x-python",
   "name": "python",
   "nbconvert_exporter": "python",
   "pygments_lexer": "ipython3",
   "version": "3.10.13"
  },
  "widgets": {
   "application/vnd.jupyter.widget-state+json": {
    "3da7a3a5d9c14d76ae0abeebeacec6ed": {
     "model_module": "@jupyter-widgets/base",
     "model_module_version": "1.2.0",
     "model_name": "LayoutModel",
     "state": {
      "_model_module": "@jupyter-widgets/base",
      "_model_module_version": "1.2.0",
      "_model_name": "LayoutModel",
      "_view_count": null,
      "_view_module": "@jupyter-widgets/base",
      "_view_module_version": "1.2.0",
      "_view_name": "LayoutView",
      "align_content": null,
      "align_items": null,
      "align_self": null,
      "border": null,
      "bottom": null,
      "display": null,
      "flex": null,
      "flex_flow": null,
      "grid_area": null,
      "grid_auto_columns": null,
      "grid_auto_flow": null,
      "grid_auto_rows": null,
      "grid_column": null,
      "grid_gap": null,
      "grid_row": null,
      "grid_template_areas": null,
      "grid_template_columns": null,
      "grid_template_rows": null,
      "height": null,
      "justify_content": null,
      "justify_items": null,
      "left": null,
      "margin": null,
      "max_height": null,
      "max_width": null,
      "min_height": null,
      "min_width": null,
      "object_fit": null,
      "object_position": null,
      "order": null,
      "overflow": null,
      "overflow_x": null,
      "overflow_y": null,
      "padding": null,
      "right": null,
      "top": null,
      "visibility": null,
      "width": null
     }
    },
    "5e8bb377ef304653bf48472a2384061f": {
     "model_module": "@jupyter-widgets/base",
     "model_module_version": "1.2.0",
     "model_name": "LayoutModel",
     "state": {
      "_model_module": "@jupyter-widgets/base",
      "_model_module_version": "1.2.0",
      "_model_name": "LayoutModel",
      "_view_count": null,
      "_view_module": "@jupyter-widgets/base",
      "_view_module_version": "1.2.0",
      "_view_name": "LayoutView",
      "align_content": null,
      "align_items": null,
      "align_self": null,
      "border": null,
      "bottom": null,
      "display": null,
      "flex": null,
      "flex_flow": null,
      "grid_area": null,
      "grid_auto_columns": null,
      "grid_auto_flow": null,
      "grid_auto_rows": null,
      "grid_column": null,
      "grid_gap": null,
      "grid_row": null,
      "grid_template_areas": null,
      "grid_template_columns": null,
      "grid_template_rows": null,
      "height": null,
      "justify_content": null,
      "justify_items": null,
      "left": null,
      "margin": null,
      "max_height": null,
      "max_width": null,
      "min_height": null,
      "min_width": null,
      "object_fit": null,
      "object_position": null,
      "order": null,
      "overflow": null,
      "overflow_x": null,
      "overflow_y": null,
      "padding": null,
      "right": null,
      "top": null,
      "visibility": null,
      "width": null
     }
    },
    "6584aa6e10bf4f2f8e40eac15ee16ba3": {
     "model_module": "@jupyter-widgets/base",
     "model_module_version": "1.2.0",
     "model_name": "LayoutModel",
     "state": {
      "_model_module": "@jupyter-widgets/base",
      "_model_module_version": "1.2.0",
      "_model_name": "LayoutModel",
      "_view_count": null,
      "_view_module": "@jupyter-widgets/base",
      "_view_module_version": "1.2.0",
      "_view_name": "LayoutView",
      "align_content": null,
      "align_items": null,
      "align_self": null,
      "border": null,
      "bottom": null,
      "display": null,
      "flex": null,
      "flex_flow": null,
      "grid_area": null,
      "grid_auto_columns": null,
      "grid_auto_flow": null,
      "grid_auto_rows": null,
      "grid_column": null,
      "grid_gap": null,
      "grid_row": null,
      "grid_template_areas": null,
      "grid_template_columns": null,
      "grid_template_rows": null,
      "height": null,
      "justify_content": null,
      "justify_items": null,
      "left": null,
      "margin": null,
      "max_height": null,
      "max_width": null,
      "min_height": null,
      "min_width": null,
      "object_fit": null,
      "object_position": null,
      "order": null,
      "overflow": null,
      "overflow_x": null,
      "overflow_y": null,
      "padding": null,
      "right": null,
      "top": null,
      "visibility": null,
      "width": null
     }
    },
    "80d73478fc71490daac27c2888749cd9": {
     "model_module": "@jupyter-widgets/controls",
     "model_module_version": "1.5.0",
     "model_name": "ProgressStyleModel",
     "state": {
      "_model_module": "@jupyter-widgets/controls",
      "_model_module_version": "1.5.0",
      "_model_name": "ProgressStyleModel",
      "_view_count": null,
      "_view_module": "@jupyter-widgets/base",
      "_view_module_version": "1.2.0",
      "_view_name": "StyleView",
      "bar_color": null,
      "description_width": ""
     }
    },
    "9eb66301dec74946bb93827dc861b0d0": {
     "model_module": "@jupyter-widgets/base",
     "model_module_version": "1.2.0",
     "model_name": "LayoutModel",
     "state": {
      "_model_module": "@jupyter-widgets/base",
      "_model_module_version": "1.2.0",
      "_model_name": "LayoutModel",
      "_view_count": null,
      "_view_module": "@jupyter-widgets/base",
      "_view_module_version": "1.2.0",
      "_view_name": "LayoutView",
      "align_content": null,
      "align_items": null,
      "align_self": null,
      "border": null,
      "bottom": null,
      "display": null,
      "flex": null,
      "flex_flow": null,
      "grid_area": null,
      "grid_auto_columns": null,
      "grid_auto_flow": null,
      "grid_auto_rows": null,
      "grid_column": null,
      "grid_gap": null,
      "grid_row": null,
      "grid_template_areas": null,
      "grid_template_columns": null,
      "grid_template_rows": null,
      "height": null,
      "justify_content": null,
      "justify_items": null,
      "left": null,
      "margin": null,
      "max_height": null,
      "max_width": null,
      "min_height": null,
      "min_width": null,
      "object_fit": null,
      "object_position": null,
      "order": null,
      "overflow": null,
      "overflow_x": null,
      "overflow_y": null,
      "padding": null,
      "right": null,
      "top": null,
      "visibility": null,
      "width": null
     }
    },
    "b7d34d40e48a4d68b380313754812f57": {
     "model_module": "@jupyter-widgets/controls",
     "model_module_version": "1.5.0",
     "model_name": "FloatProgressModel",
     "state": {
      "_dom_classes": [],
      "_model_module": "@jupyter-widgets/controls",
      "_model_module_version": "1.5.0",
      "_model_name": "FloatProgressModel",
      "_view_count": null,
      "_view_module": "@jupyter-widgets/controls",
      "_view_module_version": "1.5.0",
      "_view_name": "ProgressView",
      "bar_style": "success",
      "description": "",
      "description_tooltip": null,
      "layout": "IPY_MODEL_3da7a3a5d9c14d76ae0abeebeacec6ed",
      "max": 500,
      "min": 0,
      "orientation": "horizontal",
      "style": "IPY_MODEL_80d73478fc71490daac27c2888749cd9",
      "value": 500
     }
    },
    "ba193c76a0404249a593ca20f107d8c4": {
     "model_module": "@jupyter-widgets/controls",
     "model_module_version": "1.5.0",
     "model_name": "HBoxModel",
     "state": {
      "_dom_classes": [],
      "_model_module": "@jupyter-widgets/controls",
      "_model_module_version": "1.5.0",
      "_model_name": "HBoxModel",
      "_view_count": null,
      "_view_module": "@jupyter-widgets/controls",
      "_view_module_version": "1.5.0",
      "_view_name": "HBoxView",
      "box_style": "",
      "children": [
       "IPY_MODEL_ba6ffadbca114f0e9c3f99b37f6f3ccc",
       "IPY_MODEL_b7d34d40e48a4d68b380313754812f57",
       "IPY_MODEL_e28136d60bec45c98f78620def4e6173"
      ],
      "layout": "IPY_MODEL_5e8bb377ef304653bf48472a2384061f"
     }
    },
    "ba6ffadbca114f0e9c3f99b37f6f3ccc": {
     "model_module": "@jupyter-widgets/controls",
     "model_module_version": "1.5.0",
     "model_name": "HTMLModel",
     "state": {
      "_dom_classes": [],
      "_model_module": "@jupyter-widgets/controls",
      "_model_module_version": "1.5.0",
      "_model_name": "HTMLModel",
      "_view_count": null,
      "_view_module": "@jupyter-widgets/controls",
      "_view_module_version": "1.5.0",
      "_view_name": "HTMLView",
      "description": "",
      "description_tooltip": null,
      "layout": "IPY_MODEL_9eb66301dec74946bb93827dc861b0d0",
      "placeholder": "​",
      "style": "IPY_MODEL_e31eaf47e48b4ed5a5ec44c91460b916",
      "value": "100%"
     }
    },
    "d9fb68c8b9324336b97430e18769850c": {
     "model_module": "@jupyter-widgets/controls",
     "model_module_version": "1.5.0",
     "model_name": "DescriptionStyleModel",
     "state": {
      "_model_module": "@jupyter-widgets/controls",
      "_model_module_version": "1.5.0",
      "_model_name": "DescriptionStyleModel",
      "_view_count": null,
      "_view_module": "@jupyter-widgets/base",
      "_view_module_version": "1.2.0",
      "_view_name": "StyleView",
      "description_width": ""
     }
    },
    "e28136d60bec45c98f78620def4e6173": {
     "model_module": "@jupyter-widgets/controls",
     "model_module_version": "1.5.0",
     "model_name": "HTMLModel",
     "state": {
      "_dom_classes": [],
      "_model_module": "@jupyter-widgets/controls",
      "_model_module_version": "1.5.0",
      "_model_name": "HTMLModel",
      "_view_count": null,
      "_view_module": "@jupyter-widgets/controls",
      "_view_module_version": "1.5.0",
      "_view_name": "HTMLView",
      "description": "",
      "description_tooltip": null,
      "layout": "IPY_MODEL_6584aa6e10bf4f2f8e40eac15ee16ba3",
      "placeholder": "​",
      "style": "IPY_MODEL_d9fb68c8b9324336b97430e18769850c",
      "value": " 500/500 [21:08&lt;00:00,  2.53s/it]"
     }
    },
    "e31eaf47e48b4ed5a5ec44c91460b916": {
     "model_module": "@jupyter-widgets/controls",
     "model_module_version": "1.5.0",
     "model_name": "DescriptionStyleModel",
     "state": {
      "_model_module": "@jupyter-widgets/controls",
      "_model_module_version": "1.5.0",
      "_model_name": "DescriptionStyleModel",
      "_view_count": null,
      "_view_module": "@jupyter-widgets/base",
      "_view_module_version": "1.2.0",
      "_view_name": "StyleView",
      "description_width": ""
     }
    }
   }
  }
 },
 "nbformat": 4,
 "nbformat_minor": 4
}
