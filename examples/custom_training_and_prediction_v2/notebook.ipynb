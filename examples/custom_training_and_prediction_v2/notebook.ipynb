{
 "cells": [
  {
   "cell_type": "markdown",
   "id": "07599499-edec-4027-88c6-b845b9b4846d",
   "metadata": {},
   "source": [
    "### Custom Training Container Setup"
   ]
  },
  {
   "cell_type": "markdown",
   "id": "7bfd162e-16f2-422d-957c-b4014da8c844",
   "metadata": {},
   "source": [
    "#### Local Training and Eval Tests"
   ]
  },
  {
   "cell_type": "code",
   "execution_count": null,
   "id": "5a318ae3-39e8-420f-a251-17a5d8f6ca2c",
   "metadata": {},
   "outputs": [],
   "source": [
    "TRAINING_TABLE = \"as-dev-anze.vaimlops_custom_model.training_202404292105\""
   ]
  },
  {
   "cell_type": "code",
   "execution_count": null,
   "id": "5efa5b56-d536-4ebe-91f0-3b431513c8f2",
   "metadata": {
    "scrolled": true
   },
   "outputs": [],
   "source": [
    "!python ./training/task.py --model-dir . --mode TRAINING --bq-training-table-id $TRAINING_TABLE"
   ]
  },
  {
   "cell_type": "code",
   "execution_count": null,
   "id": "3bdcb2b9-1f52-4a5d-b545-1fc7ed6c9832",
   "metadata": {
    "scrolled": true
   },
   "outputs": [],
   "source": [
    "!python ./training/task.py --model-dir . --mode EVAL --bq-training-table-id $TRAINING_TABLE"
   ]
  },
  {
   "cell_type": "markdown",
   "id": "c46ca0fe-392e-4a48-9431-c1a957fefc53",
   "metadata": {},
   "source": [
    "#### Local Serving Tests"
   ]
  },
  {
   "cell_type": "code",
   "execution_count": null,
   "id": "1641429f-81bc-4e6c-ba1b-69c4181fd3f2",
   "metadata": {},
   "outputs": [],
   "source": [
    "# Run below in the terminal. Make sure fastapi and uvicorn are pip installed\n",
    "# export AIP_STORAGE_URI=gs://as-dev-anze-vaimlops-custom-model-pipelines/training_run_id_202404292038/model\n",
    "# export AIP_PREDICT_ROUTE=/predict\n",
    "# export AIP_HEALTH_ROUTE=/health\n",
    "# cd ./serving/app\n",
    "# uvicorn main:app --reload --log-level=debug"
   ]
  },
  {
   "cell_type": "code",
   "execution_count": null,
   "id": "426d1953-1c7c-4650-a1cc-dbb342c6c7b4",
   "metadata": {},
   "outputs": [],
   "source": [
    "import requests"
   ]
  },
  {
   "cell_type": "code",
   "execution_count": null,
   "id": "ab041d1c-8796-48ed-903e-49fa45f79a88",
   "metadata": {},
   "outputs": [],
   "source": [
    "# check /health route\n",
    "x = requests.get(\"http://127.0.0.1:8000/health\")\n",
    "print(x.status_code)"
   ]
  },
  {
   "cell_type": "code",
   "execution_count": null,
   "id": "021ce8f2-9057-43ca-9367-52447ac4d067",
   "metadata": {},
   "outputs": [],
   "source": [
    "from google.cloud import bigquery\n",
    "bqc = bigquery.Client()\n",
    "X_te = bqc.query(query=f\"SELECT * EXCEPT (data_split, label) FROM `{TRAINING_TABLE}` LIMIT 1\").to_dataframe()\n",
    "X_te"
   ]
  },
  {
   "cell_type": "code",
   "execution_count": null,
   "id": "61aef4f2-0a69-4d51-9b7a-cdb6317f039e",
   "metadata": {},
   "outputs": [],
   "source": [
    "from json import JSONEncoder\n",
    "import datetime\n",
    "\n",
    "class CustomJSONEncoder(JSONEncoder):\n",
    "    def default(self, obj):\n",
    "        if isinstance(obj, datetime.datetime):\n",
    "            return obj.isoformat()\n",
    "            \n",
    "        if isinstance(obj, datetime.date):\n",
    "            return obj.strftime(\"%Y-%m-%d\")\n",
    "\n",
    "data = json.dumps({\n",
    "    \"instances\": X_te.values.tolist(),\n",
    "    \"parameters\": {\"columns\": list(X_te.columns)}\n",
    "}, cls=CustomJSONEncoder)\n",
    "print (data)"
   ]
  },
  {
   "cell_type": "code",
   "execution_count": null,
   "id": "a0ffbc42-14c4-4794-84f8-b222436e4ad3",
   "metadata": {},
   "outputs": [],
   "source": [
    "x = requests.post(\n",
    "    \"http://127.0.0.1:8000/predict\",\n",
    "    headers={'Content-Type': 'application/json'},\n",
    "    data=data\n",
    ")\n",
    "\n",
    "if x.status_code == 200:\n",
    "    from io import BytesIO\n",
    "    print (BytesIO(x.content).read().decode())\n",
    "\n",
    "else:\n",
    "    print (x)"
   ]
  },
  {
   "cell_type": "markdown",
   "id": "de6af6c8-9a0f-4585-8766-52e96f9b70a4",
   "metadata": {},
   "source": [
    "#### Build a training Docker image"
   ]
  },
  {
   "cell_type": "code",
   "execution_count": null,
   "id": "2c8c804b-d9c8-4933-a988-d2b416f4084d",
   "metadata": {},
   "outputs": [],
   "source": [
    "GCP_PROJECT_ID = \"as-dev-anze\"\n",
    "GCP_REGION = \"us-central1\"\n",
    "BQ_DATASET_ID = \"vaimlops_custom_model\""
   ]
  },
  {
   "cell_type": "code",
   "execution_count": null,
   "id": "41b40521-21ff-491e-b28e-e167dc23f095",
   "metadata": {},
   "outputs": [],
   "source": [
    "REPO_NAME_DOCKER = BQ_DATASET_ID.replace('_', '-') + \"-custom\"\n",
    "GCR_DOCKER = f\"{GCP_REGION}-docker.pkg.dev/{GCP_PROJECT_ID}/{REPO_NAME_DOCKER}/vai-training-container:prod\"\n",
    "\n",
    "GCR_DOCKER"
   ]
  },
  {
   "cell_type": "code",
   "execution_count": null,
   "id": "18617d39-f4d2-4dc9-a335-4e630f7de3fd",
   "metadata": {},
   "outputs": [],
   "source": [
    "# create artifacts docker repository\n",
    "!gcloud artifacts repositories create $REPO_NAME_DOCKER --repository-format=docker --location=$GCP_REGION  --project=$GCP_PROJECT_ID"
   ]
  },
  {
   "cell_type": "code",
   "execution_count": null,
   "id": "36391104-d116-4eb7-b757-ff7172bc4070",
   "metadata": {},
   "outputs": [],
   "source": [
    "SRC_DIR = \"training\""
   ]
  },
  {
   "cell_type": "code",
   "execution_count": null,
   "id": "03ed8a3a-9452-4767-b8ed-882ee56f333d",
   "metadata": {},
   "outputs": [],
   "source": [
    "%cd $SRC_DIR/\n",
    "!gcloud builds submit --region={GCP_REGION} --tag={GCR_DOCKER} --suppress-logs\n",
    "%cd .."
   ]
  },
  {
   "cell_type": "markdown",
   "id": "bb7ca945-d525-4c7a-bf49-4c0a4268a621",
   "metadata": {},
   "source": [
    "#### Build a serving/prediction Docker image"
   ]
  },
  {
   "cell_type": "code",
   "execution_count": null,
   "id": "78623193-cc97-4f31-8840-e39e5f32e9ad",
   "metadata": {},
   "outputs": [],
   "source": [
    "GCR_DOCKER_SERVING = f\"{GCP_REGION}-docker.pkg.dev/{GCP_PROJECT_ID}/{REPO_NAME_DOCKER}/vai-serving-container:prod\"\n",
    "GCR_DOCKER_SERVING"
   ]
  },
  {
   "cell_type": "code",
   "execution_count": null,
   "id": "91b7d1c1-5814-497f-8b42-b110f91c1135",
   "metadata": {},
   "outputs": [],
   "source": [
    "SRC_DIR = \"serving\""
   ]
  },
  {
   "cell_type": "code",
   "execution_count": null,
   "id": "7d1f287e-2132-475a-99b9-6a9912175554",
   "metadata": {},
   "outputs": [],
   "source": [
    "%cd $SRC_DIR/\n",
    "!gcloud builds submit --region={GCP_REGION} --tag={GCR_DOCKER_SERVING} --suppress-logs\n",
    "%cd .."
   ]
  },
  {
   "cell_type": "code",
   "execution_count": null,
   "id": "c0d3bb5f-6097-4fbf-b950-01fc56e54ff0",
   "metadata": {},
   "outputs": [],
   "source": []
  }
 ],
 "metadata": {
  "kernelspec": {
   "display_name": "Python 3 (ipykernel)",
   "language": "python",
   "name": "python3"
  },
  "language_info": {
   "codemirror_mode": {
    "name": "ipython",
    "version": 3
   },
   "file_extension": ".py",
   "mimetype": "text/x-python",
   "name": "python",
   "nbconvert_exporter": "python",
   "pygments_lexer": "ipython3",
   "version": "3.10.13"
  }
 },
 "nbformat": 4,
 "nbformat_minor": 5
}
