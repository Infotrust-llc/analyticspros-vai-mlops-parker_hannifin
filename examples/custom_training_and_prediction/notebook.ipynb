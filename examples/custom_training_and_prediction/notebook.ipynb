{
 "cells": [
  {
   "cell_type": "markdown",
   "id": "07599499-edec-4027-88c6-b845b9b4846d",
   "metadata": {},
   "source": [
    "### Custom Training and Prediction Container Setup"
   ]
  },
  {
   "cell_type": "markdown",
   "id": "7bfd162e-16f2-422d-957c-b4014da8c844",
   "metadata": {},
   "source": [
    "#### Local Tests"
   ]
  },
  {
   "cell_type": "code",
   "execution_count": null,
   "id": "5efa5b56-d536-4ebe-91f0-3b431513c8f2",
   "metadata": {
    "scrolled": true
   },
   "outputs": [],
   "source": [
    "!python task.py --model-dir . --mode TRAINING --bq-training-table-id as-dev-anze.vaimlops_custom_model.training_202404262230"
   ]
  },
  {
   "cell_type": "code",
   "execution_count": null,
   "id": "3bdcb2b9-1f52-4a5d-b545-1fc7ed6c9832",
   "metadata": {
    "scrolled": true
   },
   "outputs": [],
   "source": [
    "!python task.py --model-dir . --mode EVAL --bq-training-table-id as-dev-anze.vaimlops_custom_model.training_202404262230"
   ]
  },
  {
   "cell_type": "markdown",
   "id": "de6af6c8-9a0f-4585-8766-52e96f9b70a4",
   "metadata": {},
   "source": [
    "#### Build a training Docker image"
   ]
  },
  {
   "cell_type": "code",
   "execution_count": null,
   "id": "2c8c804b-d9c8-4933-a988-d2b416f4084d",
   "metadata": {},
   "outputs": [],
   "source": [
    "GCP_PROJECT_ID = \"as-dev-anze\"\n",
    "GCP_REGION = \"us-central1\"\n",
    "BQ_DATASET_ID = \"vaimlops_custom_model\""
   ]
  },
  {
   "cell_type": "code",
   "execution_count": null,
   "id": "41b40521-21ff-491e-b28e-e167dc23f095",
   "metadata": {},
   "outputs": [],
   "source": [
    "REPO_NAME_DOCKER = BQ_DATASET_ID.replace('_', '-') + \"-custom\"\n",
    "GCR_DOCKER = f\"{GCP_REGION}-docker.pkg.dev/{GCP_PROJECT_ID}/{REPO_NAME_DOCKER}/vai-training-container:prod\"\n",
    "GCR_DOCKER"
   ]
  },
  {
   "cell_type": "code",
   "execution_count": null,
   "id": "18617d39-f4d2-4dc9-a335-4e630f7de3fd",
   "metadata": {},
   "outputs": [],
   "source": [
    "# create artifacts docker repository\n",
    "!gcloud artifacts repositories create $REPO_NAME_DOCKER --repository-format=docker --location=$GCP_REGION  --project=$GCP_PROJECT_ID"
   ]
  },
  {
   "cell_type": "code",
   "execution_count": null,
   "id": "e1fba5c5-1238-406f-9719-4ed8175f707b",
   "metadata": {
    "scrolled": true
   },
   "outputs": [],
   "source": [
    "# build docker container in repository built before\n",
    "!gcloud builds submit --region=$GCP_REGION --tag $GCR_DOCKER --quiet --suppress-logs"
   ]
  }
 ],
 "metadata": {
  "kernelspec": {
   "display_name": "Python 3 (ipykernel)",
   "language": "python",
   "name": "python3"
  },
  "language_info": {
   "codemirror_mode": {
    "name": "ipython",
    "version": 3
   },
   "file_extension": ".py",
   "mimetype": "text/x-python",
   "name": "python",
   "nbconvert_exporter": "python",
   "pygments_lexer": "ipython3",
   "version": "3.10.13"
  }
 },
 "nbformat": 4,
 "nbformat_minor": 5
}
